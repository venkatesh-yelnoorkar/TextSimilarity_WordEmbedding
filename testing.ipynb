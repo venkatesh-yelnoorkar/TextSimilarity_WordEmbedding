{
 "cells": [
  {
   "cell_type": "code",
   "execution_count": 43,
   "metadata": {},
   "outputs": [],
   "source": [
    "import pandas as pd\n",
    "import numpy as np\n",
    "import spacy\n",
    "from pp import pp"
   ]
  },
  {
   "cell_type": "code",
   "execution_count": 44,
   "metadata": {},
   "outputs": [],
   "source": [
    "#Set keywords\n",
    "CHECK_WORDS = ['not', 'non', 'other', 'other than', 'besides',]\n",
    "NUMBERS = ['1', '2', '2A', '2B', '2a', '2b']"
   ]
  },
  {
   "cell_type": "code",
   "execution_count": 45,
   "metadata": {},
   "outputs": [],
   "source": [
    "#distance function\n",
    "def dis(a, b):\n",
    "    dot = np.dot(a, b)\n",
    "    norma = np.linalg.norm(a)\n",
    "    normb = np.linalg.norm(b)\n",
    "    cos = dot / (norma * normb)\n",
    "    return cos"
   ]
  },
  {
   "cell_type": "code",
   "execution_count": 47,
   "metadata": {},
   "outputs": [],
   "source": [
    "#create centroid\n",
    "def cent(t):\n",
    "    n = np.zeros((len(t), len(t.vector)))\n",
    "    for i in range(len(t)):\n",
    "        if str(t[i]) in CHECK_WORDS:\n",
    "            n[i] = n[i] + (5*t[i].vector)\n",
    "        elif str(t[i]) in NUMBERS:\n",
    "            n[i] = n[i] + (1*t[i].vector)\n",
    "        else:\n",
    "            n[i] = n[i] + (2*t[i].vector)\n",
    "                        \n",
    "    return n.mean(axis = 0)"
   ]
  },
  {
   "cell_type": "code",
   "execution_count": 48,
   "metadata": {},
   "outputs": [],
   "source": [
    "#create the model \n",
    "model = spacy.load(\"en_core_web_lg\")"
   ]
  },
  {
   "cell_type": "code",
   "execution_count": 49,
   "metadata": {},
   "outputs": [],
   "source": [
    "#input\n",
    "df = pd.read_csv(\"test3.csv\",header = None)\n",
    "df = df.fillna(value = \"\")"
   ]
  },
  {
   "cell_type": "code",
   "execution_count": 50,
   "metadata": {},
   "outputs": [
    {
     "data": {
      "text/html": [
       "<div>\n",
       "<style scoped>\n",
       "    .dataframe tbody tr th:only-of-type {\n",
       "        vertical-align: middle;\n",
       "    }\n",
       "\n",
       "    .dataframe tbody tr th {\n",
       "        vertical-align: top;\n",
       "    }\n",
       "\n",
       "    .dataframe thead th {\n",
       "        text-align: right;\n",
       "    }\n",
       "</style>\n",
       "<table border=\"1\" class=\"dataframe\">\n",
       "  <thead>\n",
       "    <tr style=\"text-align: right;\">\n",
       "      <th></th>\n",
       "      <th>0</th>\n",
       "      <th>1</th>\n",
       "      <th>2</th>\n",
       "      <th>3</th>\n",
       "      <th>4</th>\n",
       "    </tr>\n",
       "  </thead>\n",
       "  <tbody>\n",
       "    <tr>\n",
       "      <th>0</th>\n",
       "      <td>Cash inflows: Transactions backed by Level 1 ...</td>\n",
       "      <td>Cash inflow : Secured Lending:  Level 1 assets</td>\n",
       "      <td></td>\n",
       "      <td></td>\n",
       "      <td>Secured Lending:  Level 1 assets</td>\n",
       "    </tr>\n",
       "    <tr>\n",
       "      <th>1</th>\n",
       "      <td>Cash inflows: Transactions backed by Level 2 ...</td>\n",
       "      <td>Cash inflow : Secured Lending:  Level 2 assets...</td>\n",
       "      <td></td>\n",
       "      <td></td>\n",
       "      <td>Secured Lending:  Level 2 assets with 15% haircut</td>\n",
       "    </tr>\n",
       "    <tr>\n",
       "      <th>2</th>\n",
       "      <td>Cash inflows : Transactions backed by Level 2...</td>\n",
       "      <td>Cash inflow : Secured Lending:  Level 2 assets...</td>\n",
       "      <td></td>\n",
       "      <td></td>\n",
       "      <td>Secured Lending:  Level 2 assets with 50% haircut</td>\n",
       "    </tr>\n",
       "    <tr>\n",
       "      <th>3</th>\n",
       "      <td>Cash inflows : Transactions backed by Level 2...</td>\n",
       "      <td>Cash inflow : Secured Lending:  Margin lending...</td>\n",
       "      <td></td>\n",
       "      <td></td>\n",
       "      <td>Secured Lending:  Margin lending backed by all...</td>\n",
       "    </tr>\n",
       "    <tr>\n",
       "      <th>4</th>\n",
       "      <td>Cash inflows: Transactions backed by Level 2(I...</td>\n",
       "      <td>Cash inflow : Secured Lending:  All other coll...</td>\n",
       "      <td></td>\n",
       "      <td></td>\n",
       "      <td>Secured Lending:  All other collaterals</td>\n",
       "    </tr>\n",
       "    <tr>\n",
       "      <th>5</th>\n",
       "      <td>Cash inflows :Margin lending backed by non-Le...</td>\n",
       "      <td>Cash inflow : Loans, Receivables and Other Cre...</td>\n",
       "      <td></td>\n",
       "      <td></td>\n",
       "      <td>Loans, Receivables and Other Credit Facilities...</td>\n",
       "    </tr>\n",
       "    <tr>\n",
       "      <th>6</th>\n",
       "      <td>Cash inflows :Transactions backed by other co...</td>\n",
       "      <td>Cash inflow :  Loans, Receivables and Other Cr...</td>\n",
       "      <td></td>\n",
       "      <td></td>\n",
       "      <td>Loans, Receivables and Other Credit Facilitie...</td>\n",
       "    </tr>\n",
       "    <tr>\n",
       "      <th>7</th>\n",
       "      <td>Stock of high quality liquid assets (HQLA) : L...</td>\n",
       "      <td>Cash inflow :  Loans, Receivables and Other Cr...</td>\n",
       "      <td></td>\n",
       "      <td></td>\n",
       "      <td>Loans, Receivables and Other Credit Facilitie...</td>\n",
       "    </tr>\n",
       "    <tr>\n",
       "      <th>8</th>\n",
       "      <td>Stock of high quality liquid assets (HQLA) : L...</td>\n",
       "      <td>Cash inflow :  Loans, Receivables and Other Cr...</td>\n",
       "      <td></td>\n",
       "      <td></td>\n",
       "      <td>Loans, Receivables and Other Credit Facilitie...</td>\n",
       "    </tr>\n",
       "    <tr>\n",
       "      <th>9</th>\n",
       "      <td>Stock of high quality liquid assets (HQLA) : L...</td>\n",
       "      <td>TOTAL STOCK OF HIGH-QUALITY LIQUID ASSETS (HQL...</td>\n",
       "      <td></td>\n",
       "      <td></td>\n",
       "      <td></td>\n",
       "    </tr>\n",
       "    <tr>\n",
       "      <th>10</th>\n",
       "      <td>Stock of high quality liquid assets (HQLA) : L...</td>\n",
       "      <td>TOTAL STOCK OF HIGH-QUALITY LIQUID ASSETS (HQL...</td>\n",
       "      <td></td>\n",
       "      <td></td>\n",
       "      <td></td>\n",
       "    </tr>\n",
       "    <tr>\n",
       "      <th>11</th>\n",
       "      <td>Stock of high quality liquid assets (HQLA) : L...</td>\n",
       "      <td>\\nTOTAL STOCK OF HIGH-QUALITY LIQUID ASSETS (H...</td>\n",
       "      <td></td>\n",
       "      <td></td>\n",
       "      <td></td>\n",
       "    </tr>\n",
       "    <tr>\n",
       "      <th>12</th>\n",
       "      <td>Stock of high quality liquid assets (HQLA) : L...</td>\n",
       "      <td>TOTAL STOCK OF HIGH-QUALITY LIQUID ASSETS (HQL...</td>\n",
       "      <td></td>\n",
       "      <td></td>\n",
       "      <td></td>\n",
       "    </tr>\n",
       "    <tr>\n",
       "      <th>13</th>\n",
       "      <td>Stock of high quality liquid assets (HQLA) : L...</td>\n",
       "      <td></td>\n",
       "      <td></td>\n",
       "      <td></td>\n",
       "      <td></td>\n",
       "    </tr>\n",
       "    <tr>\n",
       "      <th>14</th>\n",
       "      <td>Stock of high quality liquid assets (HQLA) : L...</td>\n",
       "      <td></td>\n",
       "      <td></td>\n",
       "      <td></td>\n",
       "      <td></td>\n",
       "    </tr>\n",
       "    <tr>\n",
       "      <th>15</th>\n",
       "      <td>Stock of high quality liquid assets (HQLA) : L...</td>\n",
       "      <td></td>\n",
       "      <td></td>\n",
       "      <td></td>\n",
       "      <td></td>\n",
       "    </tr>\n",
       "  </tbody>\n",
       "</table>\n",
       "</div>"
      ],
      "text/plain": [
       "                                                    0  \\\n",
       "0    Cash inflows: Transactions backed by Level 1 ...   \n",
       "1    Cash inflows: Transactions backed by Level 2 ...   \n",
       "2    Cash inflows : Transactions backed by Level 2...   \n",
       "3    Cash inflows : Transactions backed by Level 2...   \n",
       "4   Cash inflows: Transactions backed by Level 2(I...   \n",
       "5    Cash inflows :Margin lending backed by non-Le...   \n",
       "6    Cash inflows :Transactions backed by other co...   \n",
       "7   Stock of high quality liquid assets (HQLA) : L...   \n",
       "8   Stock of high quality liquid assets (HQLA) : L...   \n",
       "9   Stock of high quality liquid assets (HQLA) : L...   \n",
       "10  Stock of high quality liquid assets (HQLA) : L...   \n",
       "11  Stock of high quality liquid assets (HQLA) : L...   \n",
       "12  Stock of high quality liquid assets (HQLA) : L...   \n",
       "13  Stock of high quality liquid assets (HQLA) : L...   \n",
       "14  Stock of high quality liquid assets (HQLA) : L...   \n",
       "15  Stock of high quality liquid assets (HQLA) : L...   \n",
       "\n",
       "                                                    1 2 3  \\\n",
       "0      Cash inflow : Secured Lending:  Level 1 assets       \n",
       "1   Cash inflow : Secured Lending:  Level 2 assets...       \n",
       "2   Cash inflow : Secured Lending:  Level 2 assets...       \n",
       "3   Cash inflow : Secured Lending:  Margin lending...       \n",
       "4   Cash inflow : Secured Lending:  All other coll...       \n",
       "5   Cash inflow : Loans, Receivables and Other Cre...       \n",
       "6   Cash inflow :  Loans, Receivables and Other Cr...       \n",
       "7   Cash inflow :  Loans, Receivables and Other Cr...       \n",
       "8   Cash inflow :  Loans, Receivables and Other Cr...       \n",
       "9   TOTAL STOCK OF HIGH-QUALITY LIQUID ASSETS (HQL...       \n",
       "10  TOTAL STOCK OF HIGH-QUALITY LIQUID ASSETS (HQL...       \n",
       "11  \\nTOTAL STOCK OF HIGH-QUALITY LIQUID ASSETS (H...       \n",
       "12  TOTAL STOCK OF HIGH-QUALITY LIQUID ASSETS (HQL...       \n",
       "13                                                          \n",
       "14                                                          \n",
       "15                                                          \n",
       "\n",
       "                                                    4  \n",
       "0                    Secured Lending:  Level 1 assets  \n",
       "1   Secured Lending:  Level 2 assets with 15% haircut  \n",
       "2   Secured Lending:  Level 2 assets with 50% haircut  \n",
       "3   Secured Lending:  Margin lending backed by all...  \n",
       "4             Secured Lending:  All other collaterals  \n",
       "5   Loans, Receivables and Other Credit Facilities...  \n",
       "6    Loans, Receivables and Other Credit Facilitie...  \n",
       "7    Loans, Receivables and Other Credit Facilitie...  \n",
       "8    Loans, Receivables and Other Credit Facilitie...  \n",
       "9                                                      \n",
       "10                                                     \n",
       "11                                                     \n",
       "12                                                     \n",
       "13                                                     \n",
       "14                                                     \n",
       "15                                                     "
      ]
     },
     "execution_count": 50,
     "metadata": {},
     "output_type": "execute_result"
    }
   ],
   "source": [
    "df"
   ]
  },
  {
   "cell_type": "code",
   "execution_count": 52,
   "metadata": {},
   "outputs": [],
   "source": [
    "#variables to store the result\n",
    "results = []\n",
    "result = {}"
   ]
  },
  {
   "cell_type": "code",
   "execution_count": 53,
   "metadata": {},
   "outputs": [],
   "source": [
    "#1 preprocess\n",
    "#2 embedd\n",
    "#3 calculate the centroid\n",
    "#4 calculate the distance\n",
    "#5 generate the result file\n",
    "\n",
    "for sent1 in df[0]:\n",
    "    for sent2 in df[1]:\n",
    "        \n",
    "        if (len(sent2)>3):\n",
    "            \n",
    "            #1\n",
    "            pre_res = pp([sent1.strip(), sent2.strip()])\n",
    "            test1 = \" \".join(pre_res[0])\n",
    "            test2 = \" \".join(pre_res[1])\n",
    "                \n",
    "            #2\n",
    "            t1 = model(test1)\n",
    "            t2 = model(test2)\n",
    "            \n",
    "            #3\n",
    "            c1 = cent(t1)\n",
    "            c2 = cent(t2)\n",
    "            \n",
    "            #4 & 5\n",
    "            result = {}\n",
    "            result['Field1'] = sent1.strip()\n",
    "            result[\"Processed Field1\"] = test1\n",
    "            result[\"Processed Field2\"] = test2\n",
    "            result['Field2'] = sent2.strip()\n",
    "            result[\"Similarity\"] = dis(c1, c2)\n",
    "            results.append(result)\n",
    "\n",
    "            "
   ]
  },
  {
   "cell_type": "code",
   "execution_count": 54,
   "metadata": {},
   "outputs": [
    {
     "data": {
      "text/plain": [
       "208"
      ]
     },
     "execution_count": 54,
     "metadata": {},
     "output_type": "execute_result"
    }
   ],
   "source": [
    "len(results)"
   ]
  },
  {
   "cell_type": "code",
   "execution_count": 55,
   "metadata": {},
   "outputs": [],
   "source": [
    "results_df = pd.DataFrame(results)"
   ]
  },
  {
   "cell_type": "code",
   "execution_count": 56,
   "metadata": {},
   "outputs": [
    {
     "data": {
      "text/plain": [
       "'Cash inflows: Transactions backed by Level 1 assets'"
      ]
     },
     "execution_count": 56,
     "metadata": {},
     "output_type": "execute_result"
    }
   ],
   "source": [
    "results_df.iloc[10,0]\n"
   ]
  },
  {
   "cell_type": "code",
   "execution_count": 57,
   "metadata": {},
   "outputs": [],
   "source": [
    "results_df.to_excel(\"result_cow4.xlsx\")"
   ]
  }
 ],
 "metadata": {
  "kernelspec": {
   "display_name": "py36",
   "language": "python",
   "name": "py36"
  },
  "language_info": {
   "codemirror_mode": {
    "name": "ipython",
    "version": 3
   },
   "file_extension": ".py",
   "mimetype": "text/x-python",
   "name": "python",
   "nbconvert_exporter": "python",
   "pygments_lexer": "ipython3",
   "version": "3.6.7"
  }
 },
 "nbformat": 4,
 "nbformat_minor": 2
}
