{
 "cells": [
  {
   "cell_type": "code",
   "execution_count": 11,
   "metadata": {},
   "outputs": [],
   "source": [
    "import pandas as pd\n",
    "import numpy as np\n",
    "import spacy\n",
    "from pp import pp"
   ]
  },
  {
   "cell_type": "code",
   "execution_count": 12,
   "metadata": {},
   "outputs": [],
   "source": [
    "CHECK_WORDS = ['not', 'non', 'other', 'other than', 'besides',]\n",
    "NUMBERS = ['2', '2A', '2B', '2a', '2b']"
   ]
  },
  {
   "cell_type": "code",
   "execution_count": 13,
   "metadata": {},
   "outputs": [],
   "source": [
    "def dis(a, b):\n",
    "    dot = np.dot(a, b)\n",
    "    norma = np.linalg.norm(a)\n",
    "    normb = np.linalg.norm(b)\n",
    "    cos = dot / (norma * normb)\n",
    "    return cos"
   ]
  },
  {
   "cell_type": "code",
   "execution_count": 23,
   "metadata": {},
   "outputs": [],
   "source": [
    "#create centroid\n",
    "def cent(t, idfs):\n",
    "    n = np.zeros((len(t), len(t.vector)))\n",
    "    for i in range(len(t)):\n",
    "        if str(t[i]) in CHECK_WORDS:\n",
    "            n[i] = n[i] + ((idfs[str(t[i])])*(5*t[i].vector))\n",
    "        elif str(t[i]) in NUMBERS:\n",
    "            n[i] = n[i] + ((idfs[str(t[i])])*(-5*t[i].vector))\n",
    "            #n[i] = n[i] + (-5*t[i].vector)\n",
    "        else:\n",
    "            n[i] = n[i] + ((idfs[str(t[i])])*(2*t[i].vector))\n",
    "            #n[i] = n[i] + (2*t[i].vector)\n",
    "                        \n",
    "    return n.mean(axis = 0)"
   ]
  },
  {
   "cell_type": "code",
   "execution_count": 15,
   "metadata": {},
   "outputs": [],
   "source": [
    "#finding idf\n",
    "def computeIDF(docList):\n",
    "    import math\n",
    "    idfDict = {}\n",
    "    N = len(docList)\n",
    "    \n",
    "    idfDict = dict.fromkeys(docList[0].keys(), 0)\n",
    "    for doc in docList:\n",
    "        for word, val in doc.items():\n",
    "            if val > 0:\n",
    "                idfDict[word] += 1\n",
    "    \n",
    "    for word, val in idfDict.items():\n",
    "        idfDict[word] = math.log10((N + .01)/ float(val))\n",
    "        \n",
    "    return idfDict    "
   ]
  },
  {
   "cell_type": "code",
   "execution_count": 16,
   "metadata": {},
   "outputs": [],
   "source": [
    "#create the model\n",
    "model = spacy.load(\"en_core_web_lg\")"
   ]
  },
  {
   "cell_type": "code",
   "execution_count": 31,
   "metadata": {},
   "outputs": [],
   "source": [
    "df = pd.read_csv(\"test.csv\",header = None)\n",
    "df = df.fillna(value = \"\")"
   ]
  },
  {
   "cell_type": "code",
   "execution_count": 32,
   "metadata": {},
   "outputs": [],
   "source": [
    "results = []\n",
    "result = {}\n"
   ]
  },
  {
   "cell_type": "code",
   "execution_count": 33,
   "metadata": {},
   "outputs": [
    {
     "name": "stderr",
     "output_type": "stream",
     "text": [
      "/home/venkatesh/anaconda3/envs/py36/lib/python3.6/site-packages/ipykernel_launcher.py:14: RuntimeWarning: Mean of empty slice.\n",
      "  \n"
     ]
    }
   ],
   "source": [
    "for sent1 in df[0]:\n",
    "    for sent2 in df[1]:\n",
    "        #result['Field1'] = sent1.strip()\n",
    "        #result['Field2'] = sent2.strip()\n",
    "        #print(sent2)\n",
    "        #result[\"Similarity\"] = compare(sent1, sent2)\n",
    "        \n",
    "        if (len(sent2)>3):\n",
    "            pre_res = pp([sent1.strip(), sent2.strip()])\n",
    "\n",
    "\n",
    "            test1 = \" \".join(pre_res[0])\n",
    "            test2 = \" \".join(pre_res[1])\n",
    "            \n",
    "            #creating bag of words for idf\n",
    "            \n",
    "            bow1 = pre_res[0]\n",
    "            bow2 = pre_res[1]\n",
    "            \n",
    "            wordset = {}\n",
    "            wordset = set(bow1).union(set(bow2))\n",
    "            \n",
    "            wordDict1 = dict.fromkeys(wordset, 0) \n",
    "            wordDict2 = dict.fromkeys(wordset, 0) \n",
    "                        \n",
    "            for word in bow1:\n",
    "                wordDict1[word]+=1\n",
    "    \n",
    "            for word in bow2:\n",
    "                wordDict2[word]+=1\n",
    "                \n",
    "            idfs = computeIDF([wordDict1, wordDict2])\n",
    "            \n",
    "            \n",
    "            t1 = model(test1)\n",
    "            t2 = model(test2)\n",
    "            c1 = cent(t1, idfs)\n",
    "            c2 = cent(t2, idfs)\n",
    "            result = {}\n",
    "            result['Field1'] = sent1.strip()\n",
    "            result[\"Processed Field1\"] = test1\n",
    "            result[\"Processed Field2\"] = test2\n",
    "            result['Field2'] = sent2.strip()\n",
    "            result[\"Similarity\"] = dis(c1, c2)\n",
    "            results.append(result)\n",
    "\n",
    "            "
   ]
  },
  {
   "cell_type": "code",
   "execution_count": 34,
   "metadata": {},
   "outputs": [
    {
     "data": {
      "text/plain": [
       "81"
      ]
     },
     "execution_count": 34,
     "metadata": {},
     "output_type": "execute_result"
    }
   ],
   "source": [
    "len(results)"
   ]
  },
  {
   "cell_type": "code",
   "execution_count": 35,
   "metadata": {},
   "outputs": [],
   "source": [
    "results_df = pd.DataFrame(results)"
   ]
  },
  {
   "cell_type": "code",
   "execution_count": 36,
   "metadata": {},
   "outputs": [
    {
     "data": {
      "text/plain": [
       "'Cash inflows: Transactions backed by Level 2A assets'"
      ]
     },
     "execution_count": 36,
     "metadata": {},
     "output_type": "execute_result"
    }
   ],
   "source": [
    "results_df.iloc[10,0]\n"
   ]
  },
  {
   "cell_type": "code",
   "execution_count": 37,
   "metadata": {},
   "outputs": [],
   "source": [
    "results_df.to_excel(\"result21.xlsx\")"
   ]
  }
 ],
 "metadata": {
  "kernelspec": {
   "display_name": "py36",
   "language": "python",
   "name": "py36"
  },
  "language_info": {
   "codemirror_mode": {
    "name": "ipython",
    "version": 3
   },
   "file_extension": ".py",
   "mimetype": "text/x-python",
   "name": "python",
   "nbconvert_exporter": "python",
   "pygments_lexer": "ipython3",
   "version": "3.6.7"
  }
 },
 "nbformat": 4,
 "nbformat_minor": 2
}
